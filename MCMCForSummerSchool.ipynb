{
 "cells": [
  {
   "cell_type": "markdown",
   "metadata": {
    "toc-hr-collapsed": false
   },
   "source": [
    "# Liner regression with MCMC\n",
    "#### In this lecture, we describe parameter estimation with Markov chain Monre Carlo (MCMC) method.\n",
    "#### First, we would like to demonstrate how to use jupyter notebook with Python for the data analysis."
   ]
  },
  {
   "cell_type": "code",
   "execution_count": 1,
   "metadata": {},
   "outputs": [],
   "source": [
    "# import python libraries for this notebook\n",
    "%matplotlib inline\n",
    "\n",
    "import matplotlib.pyplot as plt\n",
    "import numpy as np\n",
    "import pandas as pd\n",
    "import scipy.stats\n",
    "from scipy.stats import norm\n",
    "from tqdm import tnrange"
   ]
  },
  {
   "cell_type": "markdown",
   "metadata": {},
   "source": [
    "If you find \"ImportError\", you might miss install some libraries.\n",
    "In that case, you run the following line on a new cell:\n",
    "\n",
    "> if you can use conda -> !conda install \"\"\"library name(e.g. scipy, tqdm)\"\"\" --yes\n",
    "\n",
    "> if you can use pip -> !pip install \"\"\"library name(e.g. scipy, tqdm)\"\"\""
   ]
  },
  {
   "cell_type": "code",
   "execution_count": 2,
   "metadata": {},
   "outputs": [],
   "source": [
    "# Set the fontsize on this notebook\n",
    "plt.rcParams['font.size'] = 30"
   ]
  },
  {
   "cell_type": "markdown",
   "metadata": {},
   "source": [
    "## 1) Read the data \n",
    "Python is easy to read a datafile with pandas.\n",
    "\n",
    "\"pandas\" is a library providing high-performance, easy-to-use data structures and data analysis tools for the Python programming language"
   ]
  },
  {
   "cell_type": "code",
   "execution_count": 3,
   "metadata": {},
   "outputs": [],
   "source": [
    "# Read the csv file which contains VLA-COSMOS survay data (Laigle et al. 2016; Smolcic et al. 2017)\n",
    "df_COSMOS = pd.read_csv('PythonLectureAtEASW19.csv', index_col=0)\n",
    "\n",
    "# Set the number of columns showing on this notebook\n",
    "pd.set_option('display.max_columns', len(df_COSMOS.columns), 'display.max_info_columns', len(df_COSMOS.columns))"
   ]
  },
  {
   "cell_type": "markdown",
   "metadata": {},
   "source": [
    "## 2) Check the data\n",
    "Pandas has many attributes for a quick-looking at the datafile."
   ]
  },
  {
   "cell_type": "code",
   "execution_count": 4,
   "metadata": {},
   "outputs": [
    {
     "data": {
      "text/plain": [
       "pandas.core.frame.DataFrame"
      ]
     },
     "metadata": {},
     "output_type": "display_data"
    }
   ],
   "source": [
    "# Show the datatype of \"df_COSMOS\" -> this data is called \"pandas dataframe\"\n",
    "display(type(df_COSMOS))"
   ]
  },
  {
   "cell_type": "code",
   "execution_count": 5,
   "metadata": {},
   "outputs": [
    {
     "data": {
      "text/plain": [
       "(8631, 24)"
      ]
     },
     "metadata": {},
     "output_type": "display_data"
    }
   ],
   "source": [
    "# Show the shape of \"df_COSMOS\" -> (# of rows, # of columns)\n",
    "display(df_COSMOS.shape)"
   ]
  },
  {
   "cell_type": "code",
   "execution_count": 6,
   "metadata": {},
   "outputs": [
    {
     "data": {
      "text/html": [
       "<div>\n",
       "<style scoped>\n",
       "    .dataframe tbody tr th:only-of-type {\n",
       "        vertical-align: middle;\n",
       "    }\n",
       "\n",
       "    .dataframe tbody tr th {\n",
       "        vertical-align: top;\n",
       "    }\n",
       "\n",
       "    .dataframe thead th {\n",
       "        text-align: right;\n",
       "    }\n",
       "</style>\n",
       "<table border=\"1\" class=\"dataframe\">\n",
       "  <thead>\n",
       "    <tr style=\"text-align: right;\">\n",
       "      <th></th>\n",
       "      <th>zbest</th>\n",
       "      <th>F3GHz</th>\n",
       "      <th>logL10cm</th>\n",
       "      <th>logL21cm</th>\n",
       "      <th>logLTIRSF</th>\n",
       "      <th>SFG</th>\n",
       "      <th>MNUV</th>\n",
       "      <th>MU</th>\n",
       "      <th>MB</th>\n",
       "      <th>MV</th>\n",
       "      <th>MR</th>\n",
       "      <th>MI</th>\n",
       "      <th>MZ</th>\n",
       "      <th>MY</th>\n",
       "      <th>MJ</th>\n",
       "      <th>MH</th>\n",
       "      <th>MK</th>\n",
       "      <th>MASS_MED</th>\n",
       "      <th>MASS_BEST</th>\n",
       "      <th>SFR_MED</th>\n",
       "      <th>SFR_BEST</th>\n",
       "      <th>L_NU</th>\n",
       "      <th>L_R</th>\n",
       "      <th>L_K</th>\n",
       "    </tr>\n",
       "  </thead>\n",
       "  <tbody>\n",
       "    <tr>\n",
       "      <th>0</th>\n",
       "      <td>1.5457</td>\n",
       "      <td>16147.040</td>\n",
       "      <td>25.839252</td>\n",
       "      <td>25.717876</td>\n",
       "      <td>11.662600</td>\n",
       "      <td>0.0</td>\n",
       "      <td>-18.623</td>\n",
       "      <td>-21.464</td>\n",
       "      <td>-22.299</td>\n",
       "      <td>-22.895</td>\n",
       "      <td>-23.048</td>\n",
       "      <td>-23.374</td>\n",
       "      <td>-23.643</td>\n",
       "      <td>-23.797</td>\n",
       "      <td>-24.214</td>\n",
       "      <td>-24.530</td>\n",
       "      <td>-24.284</td>\n",
       "      <td>11.14200</td>\n",
       "      <td>11.13040</td>\n",
       "      <td>-1.405420</td>\n",
       "      <td>-1.437410</td>\n",
       "      <td>27.746549</td>\n",
       "      <td>29.877626</td>\n",
       "      <td>30.193749</td>\n",
       "    </tr>\n",
       "    <tr>\n",
       "      <th>1</th>\n",
       "      <td>1.5410</td>\n",
       "      <td>15602.200</td>\n",
       "      <td>26.238592</td>\n",
       "      <td>26.457530</td>\n",
       "      <td>11.540435</td>\n",
       "      <td>0.0</td>\n",
       "      <td>-21.098</td>\n",
       "      <td>-21.800</td>\n",
       "      <td>-21.964</td>\n",
       "      <td>-22.545</td>\n",
       "      <td>-22.783</td>\n",
       "      <td>-22.839</td>\n",
       "      <td>-23.229</td>\n",
       "      <td>-23.008</td>\n",
       "      <td>-23.349</td>\n",
       "      <td>-23.627</td>\n",
       "      <td>-23.510</td>\n",
       "      <td>10.05510</td>\n",
       "      <td>10.06290</td>\n",
       "      <td>2.390100</td>\n",
       "      <td>2.346580</td>\n",
       "      <td>30.332119</td>\n",
       "      <td>30.175826</td>\n",
       "      <td>30.110579</td>\n",
       "    </tr>\n",
       "    <tr>\n",
       "      <th>2</th>\n",
       "      <td>1.5550</td>\n",
       "      <td>11369.180</td>\n",
       "      <td>25.802593</td>\n",
       "      <td>25.771760</td>\n",
       "      <td>12.118613</td>\n",
       "      <td>0.0</td>\n",
       "      <td>-16.628</td>\n",
       "      <td>-18.416</td>\n",
       "      <td>-18.701</td>\n",
       "      <td>-19.737</td>\n",
       "      <td>-17.158</td>\n",
       "      <td>-20.573</td>\n",
       "      <td>-20.255</td>\n",
       "      <td>-20.408</td>\n",
       "      <td>-20.538</td>\n",
       "      <td>-20.761</td>\n",
       "      <td>-20.594</td>\n",
       "      <td>9.41667</td>\n",
       "      <td>9.48718</td>\n",
       "      <td>0.751766</td>\n",
       "      <td>0.353600</td>\n",
       "      <td>28.486889</td>\n",
       "      <td>28.870496</td>\n",
       "      <td>28.899489</td>\n",
       "    </tr>\n",
       "    <tr>\n",
       "      <th>3</th>\n",
       "      <td>2.4455</td>\n",
       "      <td>7746.012</td>\n",
       "      <td>26.569344</td>\n",
       "      <td>26.904280</td>\n",
       "      <td>12.010794</td>\n",
       "      <td>0.0</td>\n",
       "      <td>-19.770</td>\n",
       "      <td>-22.131</td>\n",
       "      <td>-23.097</td>\n",
       "      <td>-23.559</td>\n",
       "      <td>-23.815</td>\n",
       "      <td>-24.036</td>\n",
       "      <td>-24.248</td>\n",
       "      <td>-24.357</td>\n",
       "      <td>-24.466</td>\n",
       "      <td>-24.653</td>\n",
       "      <td>-24.444</td>\n",
       "      <td>11.05550</td>\n",
       "      <td>11.06550</td>\n",
       "      <td>-2.259780</td>\n",
       "      <td>-2.263600</td>\n",
       "      <td>28.375499</td>\n",
       "      <td>30.151526</td>\n",
       "      <td>30.382799</td>\n",
       "    </tr>\n",
       "    <tr>\n",
       "      <th>4</th>\n",
       "      <td>1.2590</td>\n",
       "      <td>9212.930</td>\n",
       "      <td>25.896793</td>\n",
       "      <td>26.196741</td>\n",
       "      <td>11.263206</td>\n",
       "      <td>0.0</td>\n",
       "      <td>-18.524</td>\n",
       "      <td>-20.865</td>\n",
       "      <td>-21.731</td>\n",
       "      <td>-22.408</td>\n",
       "      <td>-22.792</td>\n",
       "      <td>-23.254</td>\n",
       "      <td>-23.441</td>\n",
       "      <td>-23.656</td>\n",
       "      <td>-23.831</td>\n",
       "      <td>-24.116</td>\n",
       "      <td>-24.101</td>\n",
       "      <td>11.19990</td>\n",
       "      <td>11.22430</td>\n",
       "      <td>0.700190</td>\n",
       "      <td>0.749476</td>\n",
       "      <td>28.911759</td>\n",
       "      <td>30.003326</td>\n",
       "      <td>30.286759</td>\n",
       "    </tr>\n",
       "  </tbody>\n",
       "</table>\n",
       "</div>"
      ],
      "text/plain": [
       "    zbest      F3GHz   logL10cm   logL21cm  logLTIRSF  SFG    MNUV      MU  \\\n",
       "0  1.5457  16147.040  25.839252  25.717876  11.662600  0.0 -18.623 -21.464   \n",
       "1  1.5410  15602.200  26.238592  26.457530  11.540435  0.0 -21.098 -21.800   \n",
       "2  1.5550  11369.180  25.802593  25.771760  12.118613  0.0 -16.628 -18.416   \n",
       "3  2.4455   7746.012  26.569344  26.904280  12.010794  0.0 -19.770 -22.131   \n",
       "4  1.2590   9212.930  25.896793  26.196741  11.263206  0.0 -18.524 -20.865   \n",
       "\n",
       "       MB      MV      MR      MI      MZ      MY      MJ      MH      MK  \\\n",
       "0 -22.299 -22.895 -23.048 -23.374 -23.643 -23.797 -24.214 -24.530 -24.284   \n",
       "1 -21.964 -22.545 -22.783 -22.839 -23.229 -23.008 -23.349 -23.627 -23.510   \n",
       "2 -18.701 -19.737 -17.158 -20.573 -20.255 -20.408 -20.538 -20.761 -20.594   \n",
       "3 -23.097 -23.559 -23.815 -24.036 -24.248 -24.357 -24.466 -24.653 -24.444   \n",
       "4 -21.731 -22.408 -22.792 -23.254 -23.441 -23.656 -23.831 -24.116 -24.101   \n",
       "\n",
       "   MASS_MED  MASS_BEST   SFR_MED  SFR_BEST       L_NU        L_R        L_K  \n",
       "0  11.14200   11.13040 -1.405420 -1.437410  27.746549  29.877626  30.193749  \n",
       "1  10.05510   10.06290  2.390100  2.346580  30.332119  30.175826  30.110579  \n",
       "2   9.41667    9.48718  0.751766  0.353600  28.486889  28.870496  28.899489  \n",
       "3  11.05550   11.06550 -2.259780 -2.263600  28.375499  30.151526  30.382799  \n",
       "4  11.19990   11.22430  0.700190  0.749476  28.911759  30.003326  30.286759  "
      ]
     },
     "metadata": {},
     "output_type": "display_data"
    }
   ],
   "source": [
    "# Show the first n (default : n=5) rows\n",
    "display(df_COSMOS.head())"
   ]
  },
  {
   "cell_type": "code",
   "execution_count": 7,
   "metadata": {},
   "outputs": [
    {
     "name": "stdout",
     "output_type": "stream",
     "text": [
      "<class 'pandas.core.frame.DataFrame'>\n",
      "Int64Index: 8631 entries, 0 to 8807\n",
      "Data columns (total 24 columns):\n",
      "zbest        8631 non-null float64\n",
      "F3GHz        8631 non-null float64\n",
      "logL10cm     8631 non-null float64\n",
      "logL21cm     8631 non-null float64\n",
      "logLTIRSF    8631 non-null float64\n",
      "SFG          8631 non-null float64\n",
      "MNUV         8631 non-null float64\n",
      "MU           8631 non-null float64\n",
      "MB           8631 non-null float64\n",
      "MV           8631 non-null float64\n",
      "MR           8631 non-null float64\n",
      "MI           8631 non-null float64\n",
      "MZ           8631 non-null float64\n",
      "MY           8631 non-null float64\n",
      "MJ           8631 non-null float64\n",
      "MH           8631 non-null float64\n",
      "MK           8631 non-null float64\n",
      "MASS_MED     8631 non-null float64\n",
      "MASS_BEST    8631 non-null float64\n",
      "SFR_MED      8631 non-null float64\n",
      "SFR_BEST     8631 non-null float64\n",
      "L_NU         8631 non-null float64\n",
      "L_R          8631 non-null float64\n",
      "L_K          8631 non-null float64\n",
      "dtypes: float64(24)\n",
      "memory usage: 1.6 MB\n"
     ]
    },
    {
     "data": {
      "text/plain": [
       "None"
      ]
     },
     "metadata": {},
     "output_type": "display_data"
    }
   ],
   "source": [
    "# Show information of pandas dataframe (e.g. the number of non-null values)\n",
    "display(df_COSMOS.info())"
   ]
  },
  {
   "cell_type": "code",
   "execution_count": 8,
   "metadata": {},
   "outputs": [
    {
     "data": {
      "text/html": [
       "<div>\n",
       "<style scoped>\n",
       "    .dataframe tbody tr th:only-of-type {\n",
       "        vertical-align: middle;\n",
       "    }\n",
       "\n",
       "    .dataframe tbody tr th {\n",
       "        vertical-align: top;\n",
       "    }\n",
       "\n",
       "    .dataframe thead th {\n",
       "        text-align: right;\n",
       "    }\n",
       "</style>\n",
       "<table border=\"1\" class=\"dataframe\">\n",
       "  <thead>\n",
       "    <tr style=\"text-align: right;\">\n",
       "      <th></th>\n",
       "      <th>zbest</th>\n",
       "      <th>F3GHz</th>\n",
       "      <th>logL10cm</th>\n",
       "      <th>logL21cm</th>\n",
       "      <th>logLTIRSF</th>\n",
       "      <th>SFG</th>\n",
       "      <th>MNUV</th>\n",
       "      <th>MU</th>\n",
       "      <th>MB</th>\n",
       "      <th>MV</th>\n",
       "      <th>MR</th>\n",
       "      <th>MI</th>\n",
       "      <th>MZ</th>\n",
       "      <th>MY</th>\n",
       "      <th>MJ</th>\n",
       "      <th>MH</th>\n",
       "      <th>MK</th>\n",
       "      <th>MASS_MED</th>\n",
       "      <th>MASS_BEST</th>\n",
       "      <th>SFR_MED</th>\n",
       "      <th>SFR_BEST</th>\n",
       "      <th>L_NU</th>\n",
       "      <th>L_R</th>\n",
       "      <th>L_K</th>\n",
       "    </tr>\n",
       "  </thead>\n",
       "  <tbody>\n",
       "    <tr>\n",
       "      <th>count</th>\n",
       "      <td>8631.000000</td>\n",
       "      <td>8631.000000</td>\n",
       "      <td>8631.000000</td>\n",
       "      <td>8631.000000</td>\n",
       "      <td>8631.000000</td>\n",
       "      <td>8631.000000</td>\n",
       "      <td>8631.000000</td>\n",
       "      <td>8631.000000</td>\n",
       "      <td>8631.000000</td>\n",
       "      <td>8631.000000</td>\n",
       "      <td>8631.000000</td>\n",
       "      <td>8631.000000</td>\n",
       "      <td>8631.000000</td>\n",
       "      <td>8631.000000</td>\n",
       "      <td>8631.000000</td>\n",
       "      <td>8631.000000</td>\n",
       "      <td>8631.000000</td>\n",
       "      <td>8631.000000</td>\n",
       "      <td>8631.000000</td>\n",
       "      <td>8631.000000</td>\n",
       "      <td>8631.000000</td>\n",
       "      <td>8631.000000</td>\n",
       "      <td>8631.000000</td>\n",
       "      <td>8631.000000</td>\n",
       "    </tr>\n",
       "    <tr>\n",
       "      <th>mean</th>\n",
       "      <td>1.322454</td>\n",
       "      <td>117.042183</td>\n",
       "      <td>23.165601</td>\n",
       "      <td>23.410598</td>\n",
       "      <td>10.567795</td>\n",
       "      <td>0.629243</td>\n",
       "      <td>-22.539491</td>\n",
       "      <td>-20.788226</td>\n",
       "      <td>-21.426523</td>\n",
       "      <td>-21.917994</td>\n",
       "      <td>-22.215429</td>\n",
       "      <td>-22.540415</td>\n",
       "      <td>-22.835689</td>\n",
       "      <td>-23.038633</td>\n",
       "      <td>-23.251693</td>\n",
       "      <td>-23.548910</td>\n",
       "      <td>-23.430137</td>\n",
       "      <td>10.661476</td>\n",
       "      <td>10.668357</td>\n",
       "      <td>1.119998</td>\n",
       "      <td>0.762818</td>\n",
       "      <td>29.314036</td>\n",
       "      <td>29.950311</td>\n",
       "      <td>30.021740</td>\n",
       "    </tr>\n",
       "    <tr>\n",
       "      <th>std</th>\n",
       "      <td>0.840792</td>\n",
       "      <td>1282.494254</td>\n",
       "      <td>1.207466</td>\n",
       "      <td>1.223907</td>\n",
       "      <td>3.235726</td>\n",
       "      <td>0.483035</td>\n",
       "      <td>15.725004</td>\n",
       "      <td>1.201650</td>\n",
       "      <td>1.150912</td>\n",
       "      <td>1.135125</td>\n",
       "      <td>1.127440</td>\n",
       "      <td>1.130181</td>\n",
       "      <td>1.133250</td>\n",
       "      <td>1.142289</td>\n",
       "      <td>1.153212</td>\n",
       "      <td>1.162435</td>\n",
       "      <td>1.154851</td>\n",
       "      <td>0.501132</td>\n",
       "      <td>0.530574</td>\n",
       "      <td>1.264983</td>\n",
       "      <td>2.863733</td>\n",
       "      <td>0.946616</td>\n",
       "      <td>0.511620</td>\n",
       "      <td>0.473196</td>\n",
       "    </tr>\n",
       "    <tr>\n",
       "      <th>min</th>\n",
       "      <td>0.000000</td>\n",
       "      <td>10.819050</td>\n",
       "      <td>0.000000</td>\n",
       "      <td>0.000000</td>\n",
       "      <td>0.000000</td>\n",
       "      <td>0.000000</td>\n",
       "      <td>-97.729000</td>\n",
       "      <td>-24.280000</td>\n",
       "      <td>-24.805000</td>\n",
       "      <td>-25.221000</td>\n",
       "      <td>-25.597000</td>\n",
       "      <td>-25.667000</td>\n",
       "      <td>-26.143000</td>\n",
       "      <td>-26.522000</td>\n",
       "      <td>-26.883000</td>\n",
       "      <td>-27.352000</td>\n",
       "      <td>-27.377000</td>\n",
       "      <td>7.012500</td>\n",
       "      <td>5.317720</td>\n",
       "      <td>-5.974820</td>\n",
       "      <td>-31.315800</td>\n",
       "      <td>23.596159</td>\n",
       "      <td>24.735016</td>\n",
       "      <td>24.694819</td>\n",
       "    </tr>\n",
       "    <tr>\n",
       "      <th>25%</th>\n",
       "      <td>0.699550</td>\n",
       "      <td>16.468400</td>\n",
       "      <td>22.716698</td>\n",
       "      <td>22.953752</td>\n",
       "      <td>10.924591</td>\n",
       "      <td>0.000000</td>\n",
       "      <td>-20.165500</td>\n",
       "      <td>-21.550000</td>\n",
       "      <td>-22.143500</td>\n",
       "      <td>-22.620000</td>\n",
       "      <td>-22.905000</td>\n",
       "      <td>-23.228000</td>\n",
       "      <td>-23.522000</td>\n",
       "      <td>-23.725000</td>\n",
       "      <td>-23.944000</td>\n",
       "      <td>-24.234000</td>\n",
       "      <td>-24.104500</td>\n",
       "      <td>10.418700</td>\n",
       "      <td>10.419100</td>\n",
       "      <td>0.501507</td>\n",
       "      <td>0.463934</td>\n",
       "      <td>28.649159</td>\n",
       "      <td>29.679376</td>\n",
       "      <td>29.811774</td>\n",
       "    </tr>\n",
       "    <tr>\n",
       "      <th>50%</th>\n",
       "      <td>1.145800</td>\n",
       "      <td>25.696080</td>\n",
       "      <td>23.227410</td>\n",
       "      <td>23.464403</td>\n",
       "      <td>11.463945</td>\n",
       "      <td>1.000000</td>\n",
       "      <td>-19.112000</td>\n",
       "      <td>-20.861000</td>\n",
       "      <td>-21.513000</td>\n",
       "      <td>-22.006000</td>\n",
       "      <td>-22.306000</td>\n",
       "      <td>-22.630000</td>\n",
       "      <td>-22.931000</td>\n",
       "      <td>-23.143000</td>\n",
       "      <td>-23.360000</td>\n",
       "      <td>-23.662000</td>\n",
       "      <td>-23.536000</td>\n",
       "      <td>10.705600</td>\n",
       "      <td>10.724600</td>\n",
       "      <td>1.507640</td>\n",
       "      <td>1.424800</td>\n",
       "      <td>29.560719</td>\n",
       "      <td>29.978326</td>\n",
       "      <td>30.063189</td>\n",
       "    </tr>\n",
       "    <tr>\n",
       "      <th>75%</th>\n",
       "      <td>1.801950</td>\n",
       "      <td>44.174970</td>\n",
       "      <td>23.703326</td>\n",
       "      <td>23.943610</td>\n",
       "      <td>11.934950</td>\n",
       "      <td>1.000000</td>\n",
       "      <td>-18.047000</td>\n",
       "      <td>-20.129500</td>\n",
       "      <td>-20.811500</td>\n",
       "      <td>-21.332000</td>\n",
       "      <td>-21.651000</td>\n",
       "      <td>-21.988500</td>\n",
       "      <td>-22.293000</td>\n",
       "      <td>-22.502000</td>\n",
       "      <td>-22.718000</td>\n",
       "      <td>-23.037500</td>\n",
       "      <td>-22.922000</td>\n",
       "      <td>10.992300</td>\n",
       "      <td>11.000650</td>\n",
       "      <td>1.934220</td>\n",
       "      <td>1.895460</td>\n",
       "      <td>30.008519</td>\n",
       "      <td>30.273126</td>\n",
       "      <td>30.295034</td>\n",
       "    </tr>\n",
       "    <tr>\n",
       "      <th>max</th>\n",
       "      <td>6.062000</td>\n",
       "      <td>80250.000000</td>\n",
       "      <td>27.047028</td>\n",
       "      <td>27.512434</td>\n",
       "      <td>13.523303</td>\n",
       "      <td>1.000000</td>\n",
       "      <td>-11.464000</td>\n",
       "      <td>-8.428000</td>\n",
       "      <td>-9.083000</td>\n",
       "      <td>-9.373000</td>\n",
       "      <td>-9.574000</td>\n",
       "      <td>-9.847000</td>\n",
       "      <td>-9.915000</td>\n",
       "      <td>-9.976000</td>\n",
       "      <td>-10.065000</td>\n",
       "      <td>-10.223000</td>\n",
       "      <td>-10.503000</td>\n",
       "      <td>12.316700</td>\n",
       "      <td>12.323000</td>\n",
       "      <td>3.567890</td>\n",
       "      <td>3.589270</td>\n",
       "      <td>31.625819</td>\n",
       "      <td>31.611726</td>\n",
       "      <td>31.631439</td>\n",
       "    </tr>\n",
       "  </tbody>\n",
       "</table>\n",
       "</div>"
      ],
      "text/plain": [
       "             zbest         F3GHz     logL10cm     logL21cm    logLTIRSF  \\\n",
       "count  8631.000000   8631.000000  8631.000000  8631.000000  8631.000000   \n",
       "mean      1.322454    117.042183    23.165601    23.410598    10.567795   \n",
       "std       0.840792   1282.494254     1.207466     1.223907     3.235726   \n",
       "min       0.000000     10.819050     0.000000     0.000000     0.000000   \n",
       "25%       0.699550     16.468400    22.716698    22.953752    10.924591   \n",
       "50%       1.145800     25.696080    23.227410    23.464403    11.463945   \n",
       "75%       1.801950     44.174970    23.703326    23.943610    11.934950   \n",
       "max       6.062000  80250.000000    27.047028    27.512434    13.523303   \n",
       "\n",
       "               SFG         MNUV           MU           MB           MV  \\\n",
       "count  8631.000000  8631.000000  8631.000000  8631.000000  8631.000000   \n",
       "mean      0.629243   -22.539491   -20.788226   -21.426523   -21.917994   \n",
       "std       0.483035    15.725004     1.201650     1.150912     1.135125   \n",
       "min       0.000000   -97.729000   -24.280000   -24.805000   -25.221000   \n",
       "25%       0.000000   -20.165500   -21.550000   -22.143500   -22.620000   \n",
       "50%       1.000000   -19.112000   -20.861000   -21.513000   -22.006000   \n",
       "75%       1.000000   -18.047000   -20.129500   -20.811500   -21.332000   \n",
       "max       1.000000   -11.464000    -8.428000    -9.083000    -9.373000   \n",
       "\n",
       "                MR           MI           MZ           MY           MJ  \\\n",
       "count  8631.000000  8631.000000  8631.000000  8631.000000  8631.000000   \n",
       "mean    -22.215429   -22.540415   -22.835689   -23.038633   -23.251693   \n",
       "std       1.127440     1.130181     1.133250     1.142289     1.153212   \n",
       "min     -25.597000   -25.667000   -26.143000   -26.522000   -26.883000   \n",
       "25%     -22.905000   -23.228000   -23.522000   -23.725000   -23.944000   \n",
       "50%     -22.306000   -22.630000   -22.931000   -23.143000   -23.360000   \n",
       "75%     -21.651000   -21.988500   -22.293000   -22.502000   -22.718000   \n",
       "max      -9.574000    -9.847000    -9.915000    -9.976000   -10.065000   \n",
       "\n",
       "                MH           MK     MASS_MED    MASS_BEST      SFR_MED  \\\n",
       "count  8631.000000  8631.000000  8631.000000  8631.000000  8631.000000   \n",
       "mean    -23.548910   -23.430137    10.661476    10.668357     1.119998   \n",
       "std       1.162435     1.154851     0.501132     0.530574     1.264983   \n",
       "min     -27.352000   -27.377000     7.012500     5.317720    -5.974820   \n",
       "25%     -24.234000   -24.104500    10.418700    10.419100     0.501507   \n",
       "50%     -23.662000   -23.536000    10.705600    10.724600     1.507640   \n",
       "75%     -23.037500   -22.922000    10.992300    11.000650     1.934220   \n",
       "max     -10.223000   -10.503000    12.316700    12.323000     3.567890   \n",
       "\n",
       "          SFR_BEST         L_NU          L_R          L_K  \n",
       "count  8631.000000  8631.000000  8631.000000  8631.000000  \n",
       "mean      0.762818    29.314036    29.950311    30.021740  \n",
       "std       2.863733     0.946616     0.511620     0.473196  \n",
       "min     -31.315800    23.596159    24.735016    24.694819  \n",
       "25%       0.463934    28.649159    29.679376    29.811774  \n",
       "50%       1.424800    29.560719    29.978326    30.063189  \n",
       "75%       1.895460    30.008519    30.273126    30.295034  \n",
       "max       3.589270    31.625819    31.611726    31.631439  "
      ]
     },
     "metadata": {},
     "output_type": "display_data"
    }
   ],
   "source": [
    "# Show the statistics of each columns (count, mean, standard deviation(std), min, quartiles and max)\n",
    "display(df_COSMOS.describe())"
   ]
  },
  {
   "cell_type": "code",
   "execution_count": 9,
   "metadata": {},
   "outputs": [
    {
     "data": {
      "text/plain": [
       "array([[<matplotlib.axes._subplots.AxesSubplot object at 0x1a1a298518>]],\n",
       "      dtype=object)"
      ]
     },
     "execution_count": 9,
     "metadata": {},
     "output_type": "execute_result"
    },
    {
     "data": {
      "image/png": "[encoded data removed]",
      "text/plain": [
       "<Figure size 1152x648 with 1 Axes>"
      ]
     },
     "metadata": {
      "needs_background": "light"
     },
     "output_type": "display_data"
    }
   ],
   "source": [
    "# Plot a histogram of redshift for all VLA-COSMOS samples\n",
    "# pandas dataframe is easy to plot with attributes (e.g. .hist(), .plot())\n",
    "df_COSMOS.hist(column='zbest', figsize=(16, 9), bins=15, rwidth=0.9, color='royalblue')\n",
    "\n",
    "# Set the x and y labels\n",
    "#plt.xlabel('Redshift')\n",
    "#plt.ylabel('Counts')\n",
    "\n",
    "# Change the y-scale into 'log'\n",
    "#plt.yscale('log')\n",
    "\n",
    "# Save this figure (if you want to output pdf file, you change .png into .pdf)\n",
    "#plt.savefig('HistogramOfRedshift.png')"
   ]
  },
  {
   "cell_type": "markdown",
   "metadata": {},
   "source": [
    "## 3) Try to do the Markov Chain Monte Carlo (MCMC)\n",
    "\n",
    "Here, \n",
    "The distiburion of $M_*{\\mbox -}L_K$ seems to be able to described as a liner relation with two parameters $a$ and $b$ which correspond to slope and intercept respectively.\n",
    "$$\n",
    "\\log (M_*/M_{\\odot})=a\\log(L_K)+b\n",
    "$$\n",
    "The aim of this lecture is to detrmine these two parameters and their distribution with MCMC method."
   ]
  },
  {
   "cell_type": "code",
   "execution_count": 10,
   "metadata": {},
   "outputs": [
    {
     "data": {
      "text/plain": [
       "<matplotlib.legend.Legend at 0x1a196a1080>"
      ]
     },
     "execution_count": 10,
     "metadata": {},
     "output_type": "execute_result"
    },
    {
     "data": {
      "image/png": "[encoded data removed]",
      "text/plain": [
       "<Figure size 1152x648 with 1 Axes>"
      ]
     },
     "metadata": {
      "needs_background": "light"
     },
     "output_type": "display_data"
    }
   ],
   "source": [
    "# Hereafter, we focus on star forming galaxies for more secure calculation\n",
    "df_SFG = df_COSMOS.query('SFG == 1')\n",
    "\n",
    "# Plot the figure\n",
    "plt.figure(figsize=(16, 9))\n",
    "plt.scatter(df_SFG['MASS_BEST'], df_SFG['L_K'], color='royalblue', alpha=0.2, label=\"Star forming galaxy\")\n",
    "plt.xlabel(r'$\\log (M_*/M_{\\odot})$')\n",
    "plt.ylabel(r'$L_K$ $[{\\rm erg\\ s^{-1}\\ Hz^{-1}}]$')\n",
    "\n",
    "# When you want to show the label, you have to run the following line\n",
    "plt.legend(loc='best')"
   ]
  },
  {
   "cell_type": "markdown",
   "metadata": {},
   "source": [
    "Fisrtly, we need to assume a prior distribution of parameters.\n",
    "In this lecture, we assume that the prior distribution of intercept and slope is normal distribution with mean $\\mu=0.5$ and standard deviation $\\sigma=0.5$.\n",
    "$$\n",
    "\\mathcal{N}(\\mu,\\sigma)=\\frac{1}{\\sqrt{2\\pi \\sigma^2}}\\exp{\\biggl(-\\frac{(x-\\mu)^2}{2\\sigma^2}\\biggr)}\n",
    "$$"
   ]
  },
  {
   "cell_type": "code",
   "execution_count": 11,
   "metadata": {},
   "outputs": [],
   "source": [
    "def prior_probability(theta):\n",
    "    a = theta[0]    # intercept\n",
    "    b = theta[1]    # slope\n",
    "    a_prior = scipy.stats.norm(0.5, 0.5).pdf(a)\n",
    "    b_prior = scipy.stats.norm(0.5, 0.5).pdf(b)\n",
    "    return np.log(a) + np.log(b)"
   ]
  },
  {
   "cell_type": "markdown",
   "metadata": {},
   "source": [
    "The data is assumed to have normal disribution. Therefore the likelihood fucntion is obtained as below. To avoid underflow, the log-likelihood is often used. "
   ]
  },
  {
   "cell_type": "code",
   "execution_count": 12,
   "metadata": {},
   "outputs": [],
   "source": [
    "def likelihood_probability(theta):\n",
    "    a = theta[0]    # intercept\n",
    "    b = theta[1]    # slope\n",
    "    y_predict = a  + b * df_SFG['MASS_BEST']\n",
    "    likelihoods = scipy.stats.norm(y_predict, sigma_e).pdf(df_SFG['L_K']) \n",
    "    return np.sum(np.log(likelihoods))"
   ]
  },
  {
   "cell_type": "markdown",
   "metadata": {},
   "source": [
    "The posterior distribution for each step can be calculated from likelihood probability and prior probability."
   ]
  },
  {
   "cell_type": "code",
   "execution_count": 13,
   "metadata": {},
   "outputs": [],
   "source": [
    "def posterior_probability(theta):\n",
    "    return likelihood_probability(theta) + prior_probability(theta)"
   ]
  },
  {
   "cell_type": "code",
   "execution_count": 14,
   "metadata": {},
   "outputs": [],
   "source": [
    "def proposal_function(theta):\n",
    "    a = theta[0]\n",
    "    b = theta[1]\n",
    "    a_new = np.random.normal(a, 0.5)\n",
    "    b_new = np.random.normal(b, 0.5)\n",
    "    theta_new = [a_new, b_new]\n",
    "    return theta_new"
   ]
  },
  {
   "cell_type": "markdown",
   "metadata": {},
   "source": [
    "This part gives initial condistion of the Markov chain.  Here, $(a^{(0)},b^{(0)})=(0.5,0.5)$."
   ]
  },
  {
   "cell_type": "code",
   "execution_count": 15,
   "metadata": {},
   "outputs": [],
   "source": [
    "sigma_e = 3\n",
    "N_iteration = 50000          # the number of the iteration\n",
    "theta_0 = [0.5, 0.5]        # start value\n",
    "results = np.zeros([N_iteration, 2])         \n",
    "results[0, 0] = theta_0[0]\n",
    "results[0, 1] = theta_0[1]"
   ]
  },
  {
   "cell_type": "markdown",
   "metadata": {},
   "source": [
    "This is a sampling part. In each step of Markov chain, we adopt Mertopolis-Hastings (MH) algorithm. The MH algorithm is defined as below,\n",
    ">Step1. Determine the initial value of parameter $\\theta^{(0)}$. Here, ${\\bf \\theta}^{(0)}=(0.5,0.5)$ this time.\n",
    "\n",
    ">Step2. Calculate the acceptance probability $\\alpha$.\n",
    "$$\n",
    "\\alpha(\\theta^{(t-1)},\\tilde{\\theta}) = \\min{\\biggl\\{1,\\frac{q(\\tilde{\\theta}|\\theta^{(t-1)})}{q(\\theta^{(t-1)}|\\tilde{\\theta})}\\frac{p(\\tilde{\\theta})}{p(\\theta^{(t-1)})} \\biggr\\}}\n",
    "$$\n",
    "\n",
    ">Step3. Generate a random number with a uniform distribution, $U \\in [0,1]$.\n",
    "\n",
    ">Step4. The parameter for next step is determined from \n",
    "$$\n",
    "\\theta^{(t)}= \\begin{cases}\n",
    "\\tilde{\\theta} & (U \\leq \\alpha(\\theta^{(t-1)},\\tilde{\\theta}) \\\\\n",
    "\\theta^{(t-1)} & (U>\\alpha(\\theta^{(t-1)},\\tilde{\\theta})).\n",
    "\\end{cases}\n",
    "$$\n",
    "\n",
    ">Step5. Repeat step 2, 3, 4 and obtain parameters $\\theta^{0},\\ \\theta^{(1)},...$\n",
    "\n",
    "This part takes about 10 minutes..."
   ]
  },
  {
   "cell_type": "code",
   "execution_count": null,
   "metadata": {},
   "outputs": [
    {
     "data": {
      "application/vnd.jupyter.widget-view+json": {
       "model_id": "17ea9044c0f94cbd92cec1c1828bcec2",
       "version_major": 2,
       "version_minor": 0
      },
      "text/plain": [
       "HBox(children=(IntProgress(value=0, max=49999), HTML(value='')))"
      ]
     },
     "metadata": {},
     "output_type": "display_data"
    },
    {
     "name": "stderr",
     "output_type": "stream",
     "text": [
      "/Users/syoshida/.pyenv/versions/miniconda3-latest/lib/python3.7/site-packages/ipykernel_launcher.py:6: RuntimeWarning: invalid value encountered in log\n",
      "  \n"
     ]
    }
   ],
   "source": [
    "for step in tnrange(1, N_iteration):\n",
    "\n",
    "    theta_old = results[step - 1, :]\n",
    "    theta_proposal = proposal_function(theta_old)\n",
    "\n",
    "    prob = np.exp(posterior_probability(theta_proposal) - posterior_probability(theta_old))\n",
    "\n",
    "    if np.random.uniform(0,1) < prob:\n",
    "        results[step, :] = theta_proposal    \n",
    "    else:\n",
    "        results[step, :] = theta_old"
   ]
  },
  {
   "cell_type": "markdown",
   "metadata": {},
   "source": [
    "In the Markov chain sampling, the chain is assumed to converge to an invariant distribution. A distirbution $\\bar{p}$ is an invariant distribution of transition distirbution $Q(\\theta,\\tilde{\\theta})$ when\n",
    "$$\n",
    "\\bar{p}(\\tilde{\\theta})=\\int^{\\infty}_{\\infty} \\bar{p}(\\theta)Q(\\theta,\\tilde{\\theta}).\n",
    "$$\n",
    "Particulary, the posterior probability $p(\\theta|D)$ need to be an invariant distribution for a Markov chain. Therefore, the first several steps are to be throw out since they are not still an invariant distribution. This process is called **burn-in**. We can set the number of the steps to be throw out in the box below. A small number may cause to accept posterior distribution that is not converge to an invariant distribution."
   ]
  },
  {
   "cell_type": "code",
   "execution_count": null,
   "metadata": {},
   "outputs": [],
   "source": [
    "burn_in = 1000\n",
    "theta_posterior = results[burn_in:, :]\n",
    "print(theta_posterior.mean(axis=0))"
   ]
  },
  {
   "cell_type": "code",
   "execution_count": null,
   "metadata": {},
   "outputs": [],
   "source": [
    "mean = theta_posterior.mean(axis=0)\n",
    "variance = theta_posterior.var(axis=0)\n",
    "sigma = np.sqrt(theta_posterior.mean(axis=0))"
   ]
  },
  {
   "cell_type": "markdown",
   "metadata": {},
   "source": [
    "The final distribution of the two parameters are displayed as histograms."
   ]
  },
  {
   "cell_type": "code",
   "execution_count": null,
   "metadata": {},
   "outputs": [],
   "source": [
    "x_plot = np.linspace(0, 100, 1000)\n",
    "\n",
    "fig = plt.figure(figsize=(32, 9))\n",
    "\n",
    "ax1 = fig.add_subplot(121)\n",
    "ax1.hist(theta_posterior[:,0], bins=30, color='royalblue', density=True)\n",
    "ax1.axvline(theta_posterior.mean(axis=0)[0], color='crimson', linestyle='dashed', linewidth=2)\n",
    "ax1.title.set_text('Posterior -- Intercept')\n",
    "\n",
    "ax2 = fig.add_subplot(122)\n",
    "ax2.hist(theta_posterior[:,1], bins=30, color='royalblue', density=True)\n",
    "ax2.axvline(theta_posterior.mean(axis=0)[1], color='crimson', linestyle='dashed', linewidth=2)\n",
    "ax2.title.set_text('Posterior -- Slope')\n",
    "\n",
    "plt.tight_layout()"
   ]
  },
  {
   "cell_type": "markdown",
   "metadata": {},
   "source": [
    "Finally, we can confirm that the model line with obtained parameters represents the original data distribution."
   ]
  },
  {
   "cell_type": "code",
   "execution_count": null,
   "metadata": {},
   "outputs": [],
   "source": [
    "fig = plt.figure(figsize=(16, 9))\n",
    "x_plot=np.linspace(df_SFG['MASS_BEST'].min(), df_SFG['MASS_BEST'].max(), 1000)\n",
    "plt.scatter(df_SFG['MASS_BEST'], df_SFG['L_K'], color='royalblue', alpha=0.2, label='$L_K$')\n",
    "plt.plot(x_plot, theta_posterior.mean(axis=0)[1] * x_plot + theta_posterior.mean(axis=0)[0], lw=4, color='k', label='estimated')\n",
    "plt.legend(loc='best')\n",
    "plt.text(8, 25.5, r'$\\log{(L_K)}=%01.2f \\times \\log{(M_*/M_{\\odot})}+%01.2f$'%(theta_posterior.mean(axis=0)[1], theta_posterior.mean(axis=0)[0]), size=30)\n",
    "plt.ylabel(r'$L_K$ $[{\\rm erg\\ s^{-1}\\ Hz^{-1}}]$')\n",
    "plt.xlabel(r'$\\log (M_*/M_{\\odot})$')"
   ]
  }
 ],
 "metadata": {
  "kernelspec": {
   "display_name": "Python 3",
   "language": "python",
   "name": "python3"
  },
  "language_info": {
   "codemirror_mode": {
    "name": "ipython",
    "version": 3
   },
   "file_extension": ".py",
   "mimetype": "text/x-python",
   "name": "python",
   "nbconvert_exporter": "python",
   "pygments_lexer": "ipython3",
   "version": "3.7.3"
  },
  "toc-autonumbering": false,
  "toc-showcode": false,
  "toc-showmarkdowntxt": false,
  "toc-showtags": false
 },
 "nbformat": 4,
 "nbformat_minor": 4
}
